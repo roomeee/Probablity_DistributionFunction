{
 "cells": [
  {
   "cell_type": "code",
   "execution_count": 1,
   "id": "4134e496",
   "metadata": {},
   "outputs": [],
   "source": [
    "import pandas as pd"
   ]
  },
  {
   "cell_type": "code",
   "execution_count": 2,
   "id": "11b30414",
   "metadata": {},
   "outputs": [],
   "source": [
    "import random"
   ]
  },
  {
   "cell_type": "code",
   "execution_count": 4,
   "id": "e7831b8b",
   "metadata": {},
   "outputs": [],
   "source": [
    "Dice=[]\n",
    "for i in range(10000):\n",
    "    Dice.append(random.randint(1,6))"
   ]
  },
  {
   "cell_type": "code",
   "execution_count": 5,
   "id": "22060d11",
   "metadata": {},
   "outputs": [
    {
     "data": {
      "text/plain": [
       "10000"
      ]
     },
     "execution_count": 5,
     "metadata": {},
     "output_type": "execute_result"
    }
   ],
   "source": [
    "len(Dice)"
   ]
  },
  {
   "cell_type": "code",
   "execution_count": 6,
   "id": "7d4a8025",
   "metadata": {},
   "outputs": [
    {
     "data": {
      "text/plain": [
       "[3, 5, 6, 1, 2]"
      ]
     },
     "execution_count": 6,
     "metadata": {},
     "output_type": "execute_result"
    }
   ],
   "source": [
    "Dice[:5]"
   ]
  },
  {
   "cell_type": "code",
   "execution_count": 7,
   "id": "9f29b36e",
   "metadata": {},
   "outputs": [
    {
     "data": {
      "text/plain": [
       "0       3\n",
       "1       5\n",
       "2       6\n",
       "3       1\n",
       "4       2\n",
       "       ..\n",
       "9995    2\n",
       "9996    3\n",
       "9997    4\n",
       "9998    4\n",
       "9999    2\n",
       "Length: 10000, dtype: int64"
      ]
     },
     "execution_count": 7,
     "metadata": {},
     "output_type": "execute_result"
    }
   ],
   "source": [
    "pd.Series(Dice)"
   ]
  },
  {
   "cell_type": "code",
   "execution_count": 8,
   "id": "42a11d80",
   "metadata": {},
   "outputs": [
    {
     "data": {
      "text/plain": [
       "2    1700\n",
       "4    1692\n",
       "3    1680\n",
       "6    1655\n",
       "5    1644\n",
       "1    1629\n",
       "dtype: int64"
      ]
     },
     "execution_count": 8,
     "metadata": {},
     "output_type": "execute_result"
    }
   ],
   "source": [
    "pd.Series(Dice).value_counts()"
   ]
  },
  {
   "cell_type": "code",
   "execution_count": 10,
   "id": "b5808281",
   "metadata": {},
   "outputs": [
    {
     "data": {
      "text/plain": [
       "2    0.1700\n",
       "4    0.1692\n",
       "3    0.1680\n",
       "6    0.1655\n",
       "5    0.1644\n",
       "1    0.1629\n",
       "dtype: float64"
      ]
     },
     "execution_count": 10,
     "metadata": {},
     "output_type": "execute_result"
    }
   ],
   "source": [
    "pd.Series(Dice).value_counts()/pd.Series(Dice).value_counts().sum()"
   ]
  },
  {
   "cell_type": "code",
   "execution_count": 11,
   "id": "d53a96dc",
   "metadata": {},
   "outputs": [],
   "source": [
    "s=(pd.Series(Dice).value_counts()/pd.Series(Dice).value_counts().sum()).sort_index()"
   ]
  },
  {
   "cell_type": "code",
   "execution_count": 12,
   "id": "c7947fff",
   "metadata": {},
   "outputs": [
    {
     "data": {
      "text/plain": [
       "1    0.1629\n",
       "2    0.1700\n",
       "3    0.1680\n",
       "4    0.1692\n",
       "5    0.1644\n",
       "6    0.1655\n",
       "dtype: float64"
      ]
     },
     "execution_count": 12,
     "metadata": {},
     "output_type": "execute_result"
    }
   ],
   "source": [
    "s"
   ]
  },
  {
   "cell_type": "code",
   "execution_count": 13,
   "id": "273ece1c",
   "metadata": {},
   "outputs": [
    {
     "data": {
      "text/plain": [
       "<Axes: >"
      ]
     },
     "execution_count": 13,
     "metadata": {},
     "output_type": "execute_result"
    },
    {
     "data": {
      "image/png": "[encoded data removed]",
      "text/plain": [
       "<Figure size 640x480 with 1 Axes>"
      ]
     },
     "metadata": {},
     "output_type": "display_data"
    }
   ],
   "source": [
    "s.plot(kind='bar')"
   ]
  },
  {
   "cell_type": "code",
   "execution_count": 16,
   "id": "fb70733d",
   "metadata": {},
   "outputs": [],
   "source": [
    "Dice_couple=[]\n",
    "for i in range(10000):\n",
    "    a=random.randint(1,6)\n",
    "    b=random.randint(1,6)\n",
    "    \n",
    "    Dice_couple.append(a+b)\n",
    "    \n",
    "    \n",
    "    "
   ]
  },
  {
   "cell_type": "code",
   "execution_count": 18,
   "id": "74866575",
   "metadata": {},
   "outputs": [
    {
     "data": {
      "text/plain": [
       "[6, 8, 6, 5, 5]"
      ]
     },
     "execution_count": 18,
     "metadata": {},
     "output_type": "execute_result"
    }
   ],
   "source": [
    "Dice_couple[:5]"
   ]
  },
  {
   "cell_type": "code",
   "execution_count": 19,
   "id": "6f4157dd",
   "metadata": {},
   "outputs": [],
   "source": [
    "s2=(pd.Series(Dice_couple).value_counts()/pd.Series(Dice_couple).value_counts().sum()).sort_index()"
   ]
  },
  {
   "cell_type": "code",
   "execution_count": 20,
   "id": "8f192be9",
   "metadata": {},
   "outputs": [
    {
     "data": {
      "text/plain": [
       "<Axes: >"
      ]
     },
     "execution_count": 20,
     "metadata": {},
     "output_type": "execute_result"
    },
    {
     "data": {
      "image/png": "[encoded data removed]",
      "text/plain": [
       "<Figure size 640x480 with 1 Axes>"
      ]
     },
     "metadata": {},
     "output_type": "display_data"
    }
   ],
   "source": [
    "s2.plot(kind='bar')"
   ]
  },
  {
   "cell_type": "code",
   "execution_count": null,
   "id": "316d2574",
   "metadata": {},
   "outputs": [],
   "source": []
  }
 ],
 "metadata": {
  "kernelspec": {
   "display_name": "Python 3 (ipykernel)",
   "language": "python",
   "name": "python3"
  },
  "language_info": {
   "codemirror_mode": {
    "name": "ipython",
    "version": 3
   },
   "file_extension": ".py",
   "mimetype": "text/x-python",
   "name": "python",
   "nbconvert_exporter": "python",
   "pygments_lexer": "ipython3",
   "version": "3.11.4"
  }
 },
 "nbformat": 4,
 "nbformat_minor": 5
}
